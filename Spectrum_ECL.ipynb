{
 "cells": [
  {
   "cell_type": "markdown",
   "metadata": {},
   "source": [
    "# Banc de radiologie\n",
    "\n",
    "Ci-dessous l'image du générateur de rayons X utilisé dans le banc de travaux pratiques.\n",
    "\n",
    "![title](img/ImageInstallationRXcrop.png)\n",
    "\n",
    "---\n",
    "\n",
    "# Simulation de spectre de rayons X\n",
    "\n",
    "Le code de simulation permet de calculer le spectre de rayons X générés par un tube X fonctionnant à une tension donnée. La mesure du spectre se fait à 1 mètre de la source dans l'air, mais une plaque de matériau peut être insérée. Sans plaque, le spectre est normalisé pour donné une dose de **1mGy** dans l'air à **1m**. Il faut ainsi préciser :\n",
    "- la haute tension U d’accélération des électrons,\n",
    "- le type de matériau pour la plaque, \n",
    "- l'épaisseur de cette plaque.\n",
    "\n",
    "Certaines grandeurs associées aux spectres sont calculées en sortie notamment\n",
    "- l’énergie moyenne des photons du spectre\n",
    "- le nombre de photons mesuré\n",
    "- la couche de demi-atténuation (en mm d’Al),"
   ]
  },
  {
   "cell_type": "code",
   "execution_count": 31,
   "metadata": {
    "scrolled": false
   },
   "outputs": [
    {
     "data": {
      "application/vnd.jupyter.widget-view+json": {
       "model_id": "d09ae56f69ff4319a28706fa5a406d91",
       "version_major": 2,
       "version_minor": 0
      },
      "text/plain": [
       "interactive(children=(IntText(value=100, description='Haute tension (kV) :', style=DescriptionStyle(descriptio…"
      ]
     },
     "metadata": {},
     "output_type": "display_data"
    }
   ],
   "source": [
    "from xpecgen import xpecgen as xg\n",
    "from ipywidgets import interact, interactive, fixed, interact_manual\n",
    "import ipywidgets as widgets\n",
    "from tabletext import to_text\n",
    "import numpy as np\n",
    "import xraylib as xrl\n",
    "import xraylib_np as xrl_np\n",
    "%matplotlib inline\n",
    "import matplotlib.pyplot as plt\n",
    "import matplotlib.ticker as tic\n",
    "import matplotlib as mpl\n",
    "from matplotlib.ticker import (MultipleLocator, FormatStrFormatter, AutoMinorLocator)\n",
    "\n",
    "xrl.XRayInit()\n",
    "xrl.SetErrorMessages(0)\n",
    "\n",
    "def f(E0,Mat_Z,Mat_X):\n",
    "    s2=xg.calculate_spectrum(E0,12,3,100,epsrel=0.5,monitor=None,z=74)\n",
    "    mu_Al=xg.get_mu(13)\n",
    "    mu_Mat=xg.get_mu(Mat_Z)\n",
    "    s2.attenuate(0.12,mu_Al) #1.2 mm of Al\n",
    "    s2.attenuate(100,xg.get_mu(\"air\")) #100 cm of Air\n",
    "    fluence_to_dose=xg.get_fluence_to_dose()\n",
    "    s2.set_norm(value=1.,weight=fluence_to_dose)\n",
    "    s2.attenuate(0.1*Mat_X,mu_Mat)\n",
    "    Nr_Photons = \"%.4g\" % (s2.get_norm())\n",
    "    Average_Energy = \"%.2f keV\" % (s2.get_norm(lambda x:x)/s2.get_norm())\n",
    "    Dose = \"%.3g mGy\" % (s2.get_norm(fluence_to_dose))    \n",
    "    hvl_Al=s2.hvl(0.5,fluence_to_dose,mu_Al)\n",
    "    HVL1_Al = \"%.2f mm (Al)\" % (10*hvl_Al)\n",
    "    a = [[\"Dose à 1m\", Dose],[\"Nombre total de photons\", Nr_Photons],[\"Énergie moyenne des photons\",Average_Energy],[\"Couche de Demie-Atténuation\", HVL1_Al]]\n",
    "    print(to_text(a))\n",
    "    (x2,y2) = s2.get_points()\n",
    "    plt.figure(1,dpi=150)\n",
    "    mpl.rcParams.update({'font.size': 6})\n",
    "    axMW = plt.subplot(111)\n",
    "    axMW.plot(x2,y2)\n",
    "    axMW.set_xlim(3,E0)\n",
    "    axMW.set_ylim(0,)\n",
    "    plt.xlabel(\"Énergie [keV]\")\n",
    "    plt.ylabel(\"Nombre de photons par [keV·cm²·mGy] @ 1m\")\n",
    "    axMW.grid(which='major', axis='x', linewidth=0.5, linestyle='-', color='0.75')\n",
    "    axMW.grid(which='minor', axis='x', linewidth=0.2, linestyle='-', color='0.85')\n",
    "    axMW.grid(which='major', axis='y', linewidth=0.5, linestyle='-', color='0.75')\n",
    "    axMW.grid(which='minor', axis='y', linewidth=0.2, linestyle='-', color='0.85')\n",
    "    axMW.xaxis.set_major_formatter(tic.FormatStrFormatter(\"%d\"))\n",
    "    axMW.yaxis.set_major_formatter(tic.FormatStrFormatter(\"%.2g\"))\n",
    "    axMW.xaxis.set_minor_locator(AutoMinorLocator())\n",
    "    axMW.yaxis.set_minor_locator(AutoMinorLocator())\n",
    "    axMW.grid(True)\n",
    "    plt.show()\n",
    "\n",
    "interact_manual(f, \n",
    "                E0 = widgets.IntText(value=100,step=1,description=\"Haute tension (kV) :\",disabled=False,style={'description_width': 'initial'}),\n",
    "                Mat_Z = widgets.Dropdown(options=[('Al',13),('Cu',29),('Pb',82)],value=29,layout={'width': 'max-content'},description='Matériau :',style={'description_width': 'initial'}),\n",
    "                Mat_X = widgets.FloatText(value=0.,step=0.01,description=\"Épaisseur (mm) :\",disabled=False,style={'description_width': 'initial'}));\n"
   ]
  },
  {
   "cell_type": "markdown",
   "metadata": {},
   "source": [
    "---\n",
    "\n",
    "# Coefficient d'atténuation linéique\n",
    "\n",
    "Le code ci-dessous permet de calculer le coefficient d'atténuation linéique $\\mu$\n",
    "de 2 matériaux en précisant leur formule chimique et leur densité\n",
    "\n",
    "> Pour mémoire, la loi d'atténuation du nombre de photons directement transmis -- loi dite de Beer-Lambert -- est\n",
    "> $$ N_{dt} = N_0 \\exp{-\\mu x} $$\n",
    "> où $x$ représente l'épaisseur de matériau\n"
   ]
  },
  {
   "cell_type": "code",
   "execution_count": 26,
   "metadata": {},
   "outputs": [
    {
     "data": {
      "application/vnd.jupyter.widget-view+json": {
       "model_id": "8e54b6e550bd481280bf8289d12b3d5e",
       "version_major": 2,
       "version_minor": 0
      },
      "text/plain": [
       "interactive(children=(Text(value='Mg', description='Matériau 1 :', style=DescriptionStyle(description_width='i…"
      ]
     },
     "metadata": {},
     "output_type": "display_data"
    }
   ],
   "source": [
    "def mus(mat1=\"Mg\",rho1=1.74,mat2=\"C2F4\",rho2=2.25):\n",
    "    energy_range = np.arange(5.,800., 0.1, dtype=np.double)\n",
    "    mu1 = [xrl.CS_Total_CP(mat1, E) * float(rho1) for E in energy_range]\n",
    "    mu2 = [xrl.CS_Total_CP(mat2, E) * float(rho2) for E in energy_range]\n",
    "    plt.figure(1,dpi=150)\n",
    "    mpl.rcParams.update({'font.size': 6})\n",
    "    axMW = plt.subplot(111)\n",
    "    axMW.plot(energy_range, mu1,color=\"black\",linewidth=2.,linestyle=\"-\",label=mat1)\n",
    "    axMW.plot(energy_range, mu2,color=\"red\",linewidth=1.5,linestyle=\"-\",label=mat2)\n",
    "    axMW.set_xscale('log')\n",
    "    axMW.set_yscale('log')\n",
    "    axMW.set_xlim(5.,500.)\n",
    "    #axMW.set_ylim(0.05,1000.)\n",
    "    plt.legend(loc='center right', frameon=True)\n",
    "    plt.xlabel(\"Énergie (keV)\")\n",
    "    plt.ylabel(\"Coefficient d'atténuation linéique (cm$^{-1}$)\")\n",
    "    axMW.grid(which='major', axis='x', linewidth=0.5, linestyle='-', color='0.75')\n",
    "    axMW.grid(which='minor', axis='x', linewidth=0.2, linestyle='-', color='0.85')\n",
    "    axMW.grid(which='major', axis='y', linewidth=0.5, linestyle='-', color='0.75')\n",
    "    axMW.grid(which='minor', axis='y', linewidth=0.2, linestyle='-', color='0.85')\n",
    "    axMW.xaxis.set_major_formatter(tic.FormatStrFormatter(\"%d\"))\n",
    "    axMW.grid(True)\n",
    "    plt.show()\n",
    "\n",
    "interact_manual(mus,\n",
    "                mat1=widgets.Text(value=\"Mg\",description='Matériau 1 :',disabled=False, style={'description_width': 'initial'}),\n",
    "                rho1=widgets.FloatText(value=1.74,step=0.01,description=\"Densité 1 :\",disabled=False, style={'description_width': 'initial'}),\n",
    "                mat2=widgets.Text(value=\"C2F4\",description='Matériau 2 :',disabled=False, style={'description_width': 'initial'}),\n",
    "                rho2=widgets.FloatText(value=2.25,step=0.01,description=\"Densité 2 :\",disabled=False, style={'description_width': 'initial'}));"
   ]
  },
  {
   "cell_type": "code",
   "execution_count": null,
   "metadata": {},
   "outputs": [],
   "source": []
  }
 ],
 "metadata": {
  "hide_input": false,
  "kernelspec": {
   "display_name": "Python 3",
   "language": "python",
   "name": "python3"
  },
  "language_info": {
   "codemirror_mode": {
    "name": "ipython",
    "version": 3
   },
   "file_extension": ".py",
   "mimetype": "text/x-python",
   "name": "python",
   "nbconvert_exporter": "python",
   "pygments_lexer": "ipython3",
   "version": "3.7.4"
  }
 },
 "nbformat": 4,
 "nbformat_minor": 2
}
